{
 "cells": [
  {
   "cell_type": "code",
   "execution_count": 1,
   "id": "be07ef90-18d0-4b25-884d-62c8d2c82677",
   "metadata": {},
   "outputs": [],
   "source": [
    "import pandas as pd\n",
    "import numpy as np\n",
    "import matplotlib as mpl\n",
    "import mplcairo\n",
    "mpl.use(\"module://mplcairo.base\")\n",
    "import matplotlib.pyplot as plt\n",
    "import seaborn as sns\n",
    "\n",
    "mplcairo.set_options(float_surface=True)\n",
    "\n",
    "from mplcairo import antialias_t\n",
    "dict.__setitem__(plt.rcParams,\"lines.antialiased\",antialias_t.BEST)\n",
    "dict.__setitem__(plt.rcParams,\"patch.antialiased\",antialias_t.BEST)\n",
    "dict.__setitem__(plt.rcParams,\"text.antialiased\",antialias_t.GRAY)\n"
   ]
  },
  {
   "cell_type": "code",
   "execution_count": 2,
   "id": "dfdd9285-caa9-45fb-bb19-df350bbd285b",
   "metadata": {},
   "outputs": [],
   "source": [
    "# Setting the general theme\n",
    "plt.rcParams[\"font.family\"]=\"Arial\"\n",
    "plt.rcParams[\"mathtext.default\"]=\"regular\"\n",
    "plt.rcParams[\"font.size\"]=12\n",
    "\n",
    "# Setting the general theme for the graph\n",
    "plt.rcParams[\"axes.labelsize\"]=10\n",
    "plt.rcParams[\"legend.fontsize\"]=10\n",
    "plt.rcParams[\"xtick.labelsize\"]=10\n",
    "plt.rcParams[\"ytick.labelsize\"]=10"
   ]
  },
  {
   "cell_type": "code",
   "execution_count": 3,
   "id": "e806c655-5d68-4ef2-ba2e-6882b6dad21d",
   "metadata": {},
   "outputs": [],
   "source": [
    "df = pd.read_excel(r\"C:\\Users\\sneh4\\OneDrive - University of Maryland\\BioML\\data_and_code -12-20-24\\Mutiple_batches_Treatment3.xlsx\",usecols=\"A:B\")"
   ]
  },
  {
   "cell_type": "code",
   "execution_count": 4,
   "id": "38e33185-e4a0-43ef-9387-14a391ba8eb4",
   "metadata": {},
   "outputs": [
    {
     "data": {
      "text/html": [
       "<div>\n",
       "<style scoped>\n",
       "    .dataframe tbody tr th:only-of-type {\n",
       "        vertical-align: middle;\n",
       "    }\n",
       "\n",
       "    .dataframe tbody tr th {\n",
       "        vertical-align: top;\n",
       "    }\n",
       "\n",
       "    .dataframe thead th {\n",
       "        text-align: right;\n",
       "    }\n",
       "</style>\n",
       "<table border=\"1\" class=\"dataframe\">\n",
       "  <thead>\n",
       "    <tr style=\"text-align: right;\">\n",
       "      <th></th>\n",
       "      <th>Average Particle Concentration</th>\n",
       "      <th>Control</th>\n",
       "    </tr>\n",
       "  </thead>\n",
       "  <tbody>\n",
       "    <tr>\n",
       "      <th>0</th>\n",
       "      <td>15040000000</td>\n",
       "      <td>1.640000e+09</td>\n",
       "    </tr>\n",
       "    <tr>\n",
       "      <th>1</th>\n",
       "      <td>15040000000</td>\n",
       "      <td>1.240000e+09</td>\n",
       "    </tr>\n",
       "    <tr>\n",
       "      <th>2</th>\n",
       "      <td>12040000000</td>\n",
       "      <td>2.040000e+09</td>\n",
       "    </tr>\n",
       "    <tr>\n",
       "      <th>3</th>\n",
       "      <td>15040000000</td>\n",
       "      <td>3.040000e+09</td>\n",
       "    </tr>\n",
       "    <tr>\n",
       "      <th>4</th>\n",
       "      <td>14040000000</td>\n",
       "      <td>1.240000e+09</td>\n",
       "    </tr>\n",
       "    <tr>\n",
       "      <th>5</th>\n",
       "      <td>11040000000</td>\n",
       "      <td>1.740000e+09</td>\n",
       "    </tr>\n",
       "    <tr>\n",
       "      <th>6</th>\n",
       "      <td>16040000000</td>\n",
       "      <td>1.840000e+09</td>\n",
       "    </tr>\n",
       "    <tr>\n",
       "      <th>7</th>\n",
       "      <td>13040000000</td>\n",
       "      <td>1.140000e+09</td>\n",
       "    </tr>\n",
       "    <tr>\n",
       "      <th>8</th>\n",
       "      <td>10040000000</td>\n",
       "      <td>1.740000e+09</td>\n",
       "    </tr>\n",
       "    <tr>\n",
       "      <th>9</th>\n",
       "      <td>14040000000</td>\n",
       "      <td>2.310000e+09</td>\n",
       "    </tr>\n",
       "    <tr>\n",
       "      <th>10</th>\n",
       "      <td>12040000000</td>\n",
       "      <td>1.710000e+09</td>\n",
       "    </tr>\n",
       "    <tr>\n",
       "      <th>11</th>\n",
       "      <td>11150000000</td>\n",
       "      <td>1.310000e+09</td>\n",
       "    </tr>\n",
       "    <tr>\n",
       "      <th>12</th>\n",
       "      <td>12150000000</td>\n",
       "      <td>1.610000e+09</td>\n",
       "    </tr>\n",
       "    <tr>\n",
       "      <th>13</th>\n",
       "      <td>12000000000</td>\n",
       "      <td>1.730000e+09</td>\n",
       "    </tr>\n",
       "    <tr>\n",
       "      <th>14</th>\n",
       "      <td>9800000000</td>\n",
       "      <td>2.400000e+09</td>\n",
       "    </tr>\n",
       "    <tr>\n",
       "      <th>15</th>\n",
       "      <td>12000000000</td>\n",
       "      <td>2.200000e+09</td>\n",
       "    </tr>\n",
       "    <tr>\n",
       "      <th>16</th>\n",
       "      <td>15000000000</td>\n",
       "      <td>NaN</td>\n",
       "    </tr>\n",
       "  </tbody>\n",
       "</table>\n",
       "</div>"
      ],
      "text/plain": [
       "    Average Particle Concentration       Control\n",
       "0                      15040000000  1.640000e+09\n",
       "1                      15040000000  1.240000e+09\n",
       "2                      12040000000  2.040000e+09\n",
       "3                      15040000000  3.040000e+09\n",
       "4                      14040000000  1.240000e+09\n",
       "5                      11040000000  1.740000e+09\n",
       "6                      16040000000  1.840000e+09\n",
       "7                      13040000000  1.140000e+09\n",
       "8                      10040000000  1.740000e+09\n",
       "9                      14040000000  2.310000e+09\n",
       "10                     12040000000  1.710000e+09\n",
       "11                     11150000000  1.310000e+09\n",
       "12                     12150000000  1.610000e+09\n",
       "13                     12000000000  1.730000e+09\n",
       "14                      9800000000  2.400000e+09\n",
       "15                     12000000000  2.200000e+09\n",
       "16                     15000000000           NaN"
      ]
     },
     "execution_count": 4,
     "metadata": {},
     "output_type": "execute_result"
    }
   ],
   "source": [
    "df"
   ]
  },
  {
   "cell_type": "code",
   "execution_count": 5,
   "id": "64869040-5b2d-4018-8b3f-1fbd7f4e8ae0",
   "metadata": {},
   "outputs": [
    {
     "data": {
      "image/png": "[encoded data removed]",
      "text/plain": [
       "<Figure size 300x500 with 1 Axes>"
      ]
     },
     "metadata": {},
     "output_type": "display_data"
    }
   ],
   "source": [
    "col_1 = \"Average Particle Concentration\"\n",
    "fig, ax = plt.subplots(1, 1, figsize=(3, 5))\n",
    "sns.violinplot(data=df, y=col_1, ax=ax, color = \"skyblue\", linecolor =\"black\")\n",
    "ax.set_ylim(0, df[col_1].mean()*3)\n",
    "ax.set_yticks(np.arange(0,df[col_1].mean()*3,1e10))\n",
    "fig.savefig(f'Variability{col_1}.ViolinPlt.png', dpi=600, bbox_inches='tight')\n",
    "display(fig)"
   ]
  },
  {
   "cell_type": "code",
   "execution_count": 7,
   "id": "c86a6960-8942-4556-af4a-6c708e985cf4",
   "metadata": {},
   "outputs": [
    {
     "data": {
      "image/png": "[encoded data removed]",
      "text/plain": [
       "<Figure size 300x500 with 1 Axes>"
      ]
     },
     "metadata": {},
     "output_type": "display_data"
    }
   ],
   "source": [
    "col_2 = \"Control\"\n",
    "fig2, ax2 = plt.subplots(1, 1, figsize=(3, 5))\n",
    "sns.violinplot(data=df, y=col_2, ax=ax2,color =\"steelblue\",linecolor = \"black\")\n",
    "ax2.set_ylim(0, df[col_2].mean()*3)\n",
    "ax2.set_yticks(np.arange(0,df[col_2].mean()*3,1.5e9))\n",
    "fig2.savefig(f'Variability{col_2}.ViolinPlt.png', dpi=600, bbox_inches='tight')\n",
    "display(fig2)"
   ]
  },
  {
   "cell_type": "code",
   "execution_count": null,
   "id": "59da6237-a22f-4b8a-96ff-e8b14fa8b970",
   "metadata": {},
   "outputs": [],
   "source": []
  }
 ],
 "metadata": {
  "kernelspec": {
   "display_name": "Python 3 (ipykernel)",
   "language": "python",
   "name": "python3"
  },
  "language_info": {
   "codemirror_mode": {
    "name": "ipython",
    "version": 3
   },
   "file_extension": ".py",
   "mimetype": "text/x-python",
   "name": "python",
   "nbconvert_exporter": "python",
   "pygments_lexer": "ipython3",
   "version": "3.9.13"
  }
 },
 "nbformat": 4,
 "nbformat_minor": 5
}
