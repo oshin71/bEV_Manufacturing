{
 "cells": [
  {
   "cell_type": "markdown",
   "id": "f66bdfdf-56bc-44ce-9ddc-ce16ea4d91a2",
   "metadata": {
    "jp-MarkdownHeadingCollapsed": true,
    "tags": []
   },
   "source": [
    "## Install mplcairo backend first\n",
    "\n",
    "```bash\n",
    "pip install numpy pandas matplotlib pycairo Pillow\n",
    "pip install git+https://github.com/anntzer/mplcairo\n",
    "```\n"
   ]
  },
  {
   "cell_type": "markdown",
   "id": "8960c554-5404-4ce1-be5b-ec2722eaa342",
   "metadata": {},
   "source": [
    "## Import modules, set plot styles & some color functions"
   ]
  },
  {
   "cell_type": "code",
   "execution_count": 1,
   "id": "eb1b12be-8b2e-4815-b89e-68894b6488e0",
   "metadata": {},
   "outputs": [],
   "source": [
    "import pandas as pd\n",
    "import numpy as np\n",
    "import matplotlib as mpl\n",
    "import mplcairo\n",
    "mpl.use(\"module://mplcairo.base\")\n",
    "import matplotlib.pyplot as plt\n",
    "\n",
    "# use floating point surfaces for lines with tiny alpha values\n",
    "mplcairo.set_options(float_surface=True)\n",
    "\n",
    "########### Ordinal Encoder ###########\n",
    "from sklearn.preprocessing import OrdinalEncoder\n",
    "import numpy as np\n",
    "\n",
    "# use best antialiasing\n",
    "# https://github.com/matplotlib/mplcairo?tab=readme-ov-file#antialiasing\n",
    "from mplcairo import antialias_t\n",
    "dict.__setitem__(plt.rcParams, \"lines.antialiased\", antialias_t.BEST)\n",
    "dict.__setitem__(plt.rcParams, \"patch.antialiased\", antialias_t.BEST)\n",
    "dict.__setitem__(plt.rcParams, \"text.antialiased\", antialias_t.GRAY)\n",
    "\n",
    "# general theme\n",
    "plt.rcParams['font.family'] = 'Arial'\n",
    "plt.rcParams['mathtext.default'] = 'regular'\n",
    "plt.rcParams['font.size'] = 12\n",
    "plt.rcParams['axes.labelsize'] = 12\n",
    "plt.rcParams['legend.fontsize'] = 10\n",
    "plt.rcParams['xtick.labelsize'] = 10\n",
    "plt.rcParams['ytick.labelsize'] = 10"
   ]
  },
  {
   "cell_type": "code",
   "execution_count": 2,
   "id": "ab250498-4eef-4f68-b82a-17eafa84e0bf",
   "metadata": {},
   "outputs": [],
   "source": [
    "from PIL import Image\n",
    "from matplotlib.colors import LinearSegmentedColormap\n",
    "\n",
    "def img2cmap(fname, name=None, reversed=False):\n",
    "    cmap_arr = np.array(Image.open(fname))[0].astype(np.float64) / 255.0\n",
    "    return LinearSegmentedColormap.from_list(\n",
    "        (name or fname) + ('_r' if reversed else ''),\n",
    "        np.flip(cmap_arr, 0) if reversed else cmap_arr\n",
    "    )\n",
    "\n",
    "def get_color(cmap, val, alpha):\n",
    "    color = cmap(val)\n",
    "    color = list(color)\n",
    "    if len(color) == 4:\n",
    "        color[3] = alpha\n",
    "    elif len(color) == 3:\n",
    "        color.append(alpha)\n",
    "    else:\n",
    "        raise ValurError(color)\n",
    "    return tuple(color)\n"
   ]
  },
  {
   "cell_type": "code",
   "execution_count": 3,
   "id": "a1bd6c74-410e-4f69-9273-1ba3e7cac7f6",
   "metadata": {},
   "outputs": [],
   "source": [
    "# Picking colors\n",
    "from matplotlib.colors import to_rgba\n",
    "\n",
    "def choose_color(num):\n",
    "    if num == 0:\n",
    "        color=\"khaki\"\n",
    "    elif num == 1:\n",
    "        color=\"yellowgreen\"\n",
    "    elif num == 2:\n",
    "        color=\"lightskyblue\"\n",
    "    elif num == 3:\n",
    "        color=\"dimgray\"\n",
    "    else:\n",
    "        print(\"pick an integer from 0 to 2\")\n",
    "    return to_rgba(color)\n",
    "\n",
    "    \n",
    "        "
   ]
  },
  {
   "cell_type": "code",
   "execution_count": 4,
   "id": "505be212-9b46-44c0-84fe-f6ce072a9373",
   "metadata": {},
   "outputs": [],
   "source": [
    "# Uploading and reading the file\n",
    "plot_df = pd.read_csv('Top3_Prediction.csv')#.sample(n=100, ignore_index=True)\n",
    "\n",
    "#Constructing Relative_Standard_Deviation column\n",
    "plot_df['Relative_Standard_Deviation'] = np.clip(plot_df['Fold_Increase_STD'] / plot_df['Fold_Increase'], 0, 1)\n",
    "\n",
    "#Creating Relative_Standard_Deviation categories\n",
    "bins = [0,0.1,0.2]\n",
    "labels = [0.1,0.2]\n",
    "plot_df['Relative_Standard_Deviation_cat']=pd.cut(plot_df['Relative_Standard_Deviation'],bins= bins,labels=labels)\n",
    "plot_df['Relative_Standard_Deviation_cat']= plot_df['Relative_Standard_Deviation_cat'].astype(object).fillna(plot_df['Relative_Standard_Deviation'])                                                \n",
    "\n",
    "#Introducting a new parameter - Combined Effect                                                 \n",
    "plot_df['Combined_Effect']=plot_df['Fold_Increase'] /plot_df['Relative_Standard_Deviation_cat'] \n",
    "                                             "
   ]
  },
  {
   "cell_type": "code",
   "execution_count": 5,
   "id": "ef7a535c-418f-4138-96da-1ab090a1a532",
   "metadata": {},
   "outputs": [
    {
     "data": {
      "image/png": "[encoded data removed]",
      "text/html": [
       "<div style=\"vertical-align: middle;\"><strong>custom_coolwarm</strong> </div><div class=\"cmap\"><img alt=\"custom_coolwarm colormap\" title=\"custom_coolwarm\" style=\"border: 1px solid #555;\" src=\"data:image/png;base64,iVBORw0KGgoAAAANSUhEUgAAAgAAAABACAYAAABsv8+/AAAAHnRFWHRUaXRsZQBjdXN0b21fY29vbHdhcm0gY29sb3JtYXDpW3J+AAAAJHRFWHREZXNjcmlwdGlvbgBjdXN0b21fY29vbHdhcm0gY29sb3JtYXAj55sRAAAAMHRFWHRBdXRob3IATWF0cGxvdGxpYiB2My44LjAsIGh0dHBzOi8vbWF0cGxvdGxpYi5vcmefc/hPAAAAMnRFWHRTb2Z0d2FyZQBNYXRwbG90bGliIHYzLjguMCwgaHR0cHM6Ly9tYXRwbG90bGliLm9yZ7HVZ2gAAAHSSURBVHic7dZBTsMwAADBwP8/zAGHCy2qU5MIhIS0M5cqsWs7aQ/7su/7vvFv3X6dt/fb9f5wf98e78/fm8eX9+9f/H58/resxr/W+934/Fxjf37/p+/jt+N/tu40PrZ5v/3S+Bgn44v1juPPzzcO553HV8/1uf58fZ///Nzj/rm4Px7XXc5b7TfPn9/D2f7Tumfz7u97Ps9h35P5i3PP8+fz397X4bm2i/ssznX4f5w8x/n1yfOMa+tcnffzc15cd8z7PP/clue6Nn4273UDAHIEAAAECQAACBIAABAkAAAgSAAAQJAAAIAgAQAAQQIAAIIEAAAECQAACBIAABAkAAAgSAAAQJAAAIAgAQAAQQIAAIIEAAAECQAACBIAABAkAAAgSAAAQJAAAIAgAQAAQQIAAIIEAAAECQAACBIAABAkAAAgSAAAQJAAAIAgAQAAQQIAAIIEAAAECQAACBIAABAkAAAgSAAAQJAAAIAgAQAAQQIAAIIEAAAECQAACBIAABAkAAAgSAAAQJAAAIAgAQAAQQIAAIIEAAAECQAACBIAABAkAAAgSAAAQJAAAIAgAQAAQQIAAIIEAAAECQAACBIAABAkAAAgSAAAQJAAAICgDwTts6EvHvGuAAAAAElFTkSuQmCC\"></div><div style=\"vertical-align: middle; max-width: 514px; display: flex; justify-content: space-between;\"><div style=\"float: left;\"><div title=\"#ffffffff\" style=\"display: inline-block; width: 1em; height: 1em; margin: 0; vertical-align: middle; border: 1px solid #555; background-color: #ffffffff;\"></div> under</div><div style=\"margin: 0 auto; display: inline-block;\">bad <div title=\"#00000000\" style=\"display: inline-block; width: 1em; height: 1em; margin: 0; vertical-align: middle; border: 1px solid #555; background-color: #00000000;\"></div></div><div style=\"float: right;\">over <div title=\"#115da5ff\" style=\"display: inline-block; width: 1em; height: 1em; margin: 0; vertical-align: middle; border: 1px solid #555; background-color: #115da5ff;\"></div></div>"
      ],
      "text/plain": [
       "<matplotlib.colors.LinearSegmentedColormap at 0x1fb78783d90>"
      ]
     },
     "metadata": {},
     "output_type": "display_data"
    }
   ],
   "source": [
    "######### Combined Effect - Assigning columns, parameters #########\n",
    "Y_COL = 'Combined_Effect'\n",
    "Y_MIN, Y_MAX = 0, 300\n",
    "higher_is_better = True\n",
    "sorting_randomness = 0.7\n",
    "\n",
    "##### Color Map #####\n",
    "cmap = img2cmap('Partial_blue.png', 'custom_coolwarm', reversed=not higher_is_better)\n",
    "display(cmap)\n",
    "\n",
    "\n",
    "###Assinging Columns\n",
    "y_cols = [\n",
    "    'Day1_H2O2', 'Day2_H2O2', 'Day3_H2O2',\n",
    "    'Day1_Lysozyme', 'Day2_Lysozyme', 'Day3_Lysozyme',\n",
    "    'Day1_Sonication','Day2_Sonication' , 'Day3_Sonication',\n",
    "    Y_COL\n",
    "]\n",
    "\n",
    "###Extracting Column Names\n",
    "y_names = [y.replace('_', '\\n').replace('Day', 'Day ').replace('H2O2', '$H_2O_2$') for y in y_cols]\n",
    "\n",
    "###Assinging Columns Tick Values\n",
    "y_ticks = [{\n",
    "    'H2O2': [0, 10, 25, 50],\n",
    "    'Lysozyme': [0, 0.75, 1.5, 2.25, 3.0],\n",
    "    'Sonication': [0, 20, 30, 60],\n",
    "    'Effect': np.linspace(Y_MIN, Y_MAX, 4),\n",
    "    'Standard': np.linspace(Y_MIN, Y_MAX, 5),\n",
    "}[y.split('_')[1]] for y in y_cols]\n",
    "\n",
    "### Calculating Aplha values\n",
    "line_values = plot_df[Y_COL].values / Y_MAX\n",
    "line_alphas = np.clip(line_values, 0, 1)\n",
    "\n",
    "if Y_COL == 'Combined_Effect':\n",
    "    line_alphas = (np.abs((line_alphas - 0.5) * 2) ** 4) * 0.9 + 0.006\n",
    "else:\n",
    "    print('line_alphas transform skipped')\n",
    "\n",
    "input_cols = y_cols[0:-1]\n",
    "cat_H = [\"0\", \"10\", \"25\", \"50\"]\n",
    "cat_L = [\"0\", \"0.75\", \"1.5\", \"2.25\", \"3\"]\n",
    "cat_S = [\"0\", \"20\", \"30\", \"60\"]\n",
    "\n",
    "agg_norm_values =[[],[],[]]\n",
    "\n",
    "shift = 0\n",
    "\n",
    "# Initialize an empty array to store aggregated normalized values\n",
    "agg_norm_values = np.empty((plot_df.shape[0], 0))\n",
    "\n",
    "# Loop through the input columns\n",
    "for col in input_cols:\n",
    "\n",
    "    # Extract the last part of the column name\n",
    "    cat_str = col.split(\"_\")[-1]\n",
    "    \n",
    "    # Match with the correct category list\n",
    "    if cat_str == \"H2O2\":\n",
    "        cat_list = sorted(set(cat_H))\n",
    "    elif cat_str == \"Lysozyme\":\n",
    "        cat_list = sorted(set(cat_L))\n",
    "    elif cat_str == \"Sonication\":\n",
    "        cat_list = sorted(set(cat_S))\n",
    "    else:\n",
    "        print(f\"No match for column: {col}\")\n",
    "        continue  # Skip to the next column\n",
    "    \n",
    "    # Assign categories to the Ordinal Encoder\n",
    "    emc = OrdinalEncoder(categories=[cat_list], dtype=object, handle_unknown=\"use_encoded_value\", unknown_value=-1)\n",
    "    \n",
    "    # Transform the column values\n",
    "    try:\n",
    "        # norm_values = emc.fit_transform(plot_df[[col]])\n",
    "        norm_values = emc.fit_transform(plot_df[[col]].astype(str))\n",
    "        # Aggregate normalized values\n",
    "        agg_norm_values = np.hstack((agg_norm_values, norm_values))\n",
    "    except Exception as e:\n",
    "        print(f\"Error processing column {col}: {e}\")\n",
    "      \n"
   ]
  },
  {
   "cell_type": "code",
   "execution_count": 6,
   "id": "c7d6698e-541e-4981-bc93-3762fda1f32c",
   "metadata": {},
   "outputs": [],
   "source": [
    "# Applying the shift\n",
    "base_0 = np.array([[1,1,1],\n",
    "                  [1,1,1],\n",
    "                  [1,1,1],\n",
    "                  [1,1,1]])\n",
    "\n",
    "factor_1 = np.array([0.05,0.1,0,0.05])\n",
    "factor_1 = factor_1[:,np.newaxis]\n",
    "shift_1 = base_0 * factor_1\n",
    "\n",
    "factor_2 = np.array([0.25,0.10,0.00,0.03])\n",
    "factor_2 = factor_2[:,np.newaxis]\n",
    "shift_2 = base_0 * factor_2\n",
    "\n",
    "factor_3 = np.array([0.09,0.05,0.05,0.05])\n",
    "factor_3 = factor_3[:,np.newaxis]\n",
    "shift_3= base_0 * factor_3\n",
    "\n",
    "shift = np.concatenate((shift_1,shift_2,shift_3), axis=1)\n",
    "agg_norm_values=agg_norm_values+ shift"
   ]
  },
  {
   "cell_type": "code",
   "execution_count": 7,
   "id": "29b85cec-52c5-4664-8c42-e7b6b8df29af",
   "metadata": {},
   "outputs": [],
   "source": [
    "# Normalizing the Input matrix and assigning aplha values\n",
    "y_values = plot_df[y_cols].values\n",
    "norm_y_values=np.hstack((agg_norm_values, y_values[:,-1:]))\n",
    "line_values = plot_df[Y_COL].values / Y_MAX\n",
    "line_alphas = np.clip(line_values, 0, 1)"
   ]
  },
  {
   "cell_type": "markdown",
   "id": "1d36cea9-d912-4f7e-aedd-877289157ab6",
   "metadata": {},
   "source": [
    "## Load prediction result and prepare data"
   ]
  },
  {
   "cell_type": "markdown",
   "id": "38eea523-7a64-493c-a40f-48d20ecf98a6",
   "metadata": {},
   "source": [
    "## Parallel Coordinates Plot "
   ]
  },
  {
   "cell_type": "code",
   "execution_count": 8,
   "id": "ade2e15b-8af2-4214-870e-03f15afc1308",
   "metadata": {},
   "outputs": [],
   "source": [
    "from matplotlib.path import Path\n",
    "import matplotlib.patches as patches\n"
   ]
  },
  {
   "cell_type": "code",
   "execution_count": 9,
   "id": "7ea8e444-a277-492a-a5f5-c00dcea0167b",
   "metadata": {},
   "outputs": [],
   "source": [
    "# Evaluating mins and max  to normalizing the data \n",
    "y_maxs= np.array([3.2,3.2,3.2,4.2,4.2,4.2,3.2,3.2,3.2])\n",
    "y_mins = np.zeros_like(y_maxs)\n",
    "y_deltas = y_maxs - y_mins\n",
    "y_min_l =np.array(norm_y_values[:,-1].min(axis=0))\n",
    "y_max_l =np.array(norm_y_values[:,-1].max(axis=0))\n",
    "y_mins=np.hstack((y_mins,y_min_l))\n",
    "y_maxs=np.hstack((y_maxs,y_max_l))\n"
   ]
  },
  {
   "cell_type": "code",
   "execution_count": 10,
   "id": "1c09a2a9-a4c7-43bc-91c6-2b3bcc6afd59",
   "metadata": {},
   "outputs": [],
   "source": [
    "# transform all data to be compatible with the main axis\n",
    "z_values = np.zeros_like(norm_y_values)\n",
    "z_values[:, 0] = norm_y_values[:, 0]\n",
    "num_cols = z_values.shape[1]\n",
    "num_row =z_values.shape[0]\n",
    "\n",
    "for i in range(1,num_cols):\n",
    "    \n",
    "    if y_maxs[i] ==0:\n",
    "         for j in range(0,num_row):\n",
    "            z_values[j, i] = 0         \n",
    "    else:\n",
    "        if i >=3 and i<6:\n",
    "            max=4\n",
    "        elif i==9:\n",
    "            max=y_maxs[9]\n",
    "        else:\n",
    "            max=3\n",
    "        \n",
    "        for j in range(0,num_row):\n",
    "            z_values[j, i] = (norm_y_values[j, i] - 0) / max * 3+ 0"
   ]
  },
  {
   "cell_type": "code",
   "execution_count": 11,
   "id": "f0174021-146f-4030-8ab9-48232e491afe",
   "metadata": {
    "scrolled": true
   },
   "outputs": [
    {
     "data": {
      "text/plain": [
       "(0.0, 300.0)"
      ]
     },
     "execution_count": 11,
     "metadata": {},
     "output_type": "execute_result"
    }
   ],
   "source": [
    "# Setting up the axes\n",
    "plt.close('all')\n",
    "fig, host = plt.subplots(figsize=(12, 4), gridspec_kw=dict(left=0.1, right=0.95, bottom=0.1, top=0.8))\n",
    "\n",
    "axes = [host] + [host.twinx() for i in range(norm_y_values.shape[1]-1)]\n",
    "\n",
    "for i, ax in enumerate(axes):\n",
    "    ax.set_ylim(y_mins[i], y_maxs[i])\n",
    "    ax.spines['top'].set_visible(False)\n",
    "    ax.spines['bottom'].set_visible(False)\n",
    "    \n",
    "    if i == (len(axes) - 1):\n",
    "        ax.set_yticks([])\n",
    "        ax.set_ylim(-0.1, Y_MAX)\n",
    "    else:\n",
    "        ax.set_yticks(list(range(len(y_ticks[i]))), labels=list(map(str, y_ticks[i])))\n",
    "    ax.spines['top'].set_visible(False)\n",
    "    ax.spines['bottom'].set_visible(False)\n",
    "    if ax != host:\n",
    "        ax.spines['left'].set_visible(False)\n",
    "        ax.yaxis.set_ticks_position('right')\n",
    "        ax.spines[\"right\"].set_position((\"axes\", i / (y_values.shape[1] - 1)))\n",
    "    ax.tick_params(axis='y', which='major', labelsize=12)\n",
    "\n",
    "host.set_xlim(0, y_values.shape[1]-1 )\n",
    "host.set_xticks(range(y_values.shape[1]-1))\n",
    "host.set_xticklabels(y_names[:-1], fontsize=14)\n",
    "host.tick_params(axis='x', which='major', pad=7)\n",
    "host.spines['right'].set_visible(False)\n",
    "host.xaxis.tick_top\n",
    "\n",
    "# cbar = plt.colorbar(\n",
    "#     mpl.cm.ScalarMappable(mpl.colors.Normalize(vmin=Y_MIN, vmax=Y_MAX), cmap),\n",
    "#     ax=axes[-1], pad=0, shrink=1, fraction=0.05\n",
    "# )\n",
    "# cbar.ax.set_ylabel(y_names[-1].replace('\\n', ' '), fontsize=14, labelpad=10)\n",
    "# cbar.ax.tick_params(axis='y', which='major', labelsize=12)\n",
    "\n"
   ]
  },
  {
   "cell_type": "code",
   "execution_count": 12,
   "id": "937f1aa9-bd57-4974-8838-91903a342776",
   "metadata": {
    "tags": []
   },
   "outputs": [
    {
     "data": {
      "image/png": "[encoded data removed]",
      "text/plain": [
       "<Figure size 1200x400 with 10 Axes>"
      ]
     },
     "execution_count": 12,
     "metadata": {},
     "output_type": "execute_result"
    }
   ],
   "source": [
    "#Plotting the data\n",
    "for j in range(norm_y_values.shape[0]):\n",
    "   \n",
    "    # create bezier curves\n",
    "    verts = list(zip([x for x in np.linspace(0, 9, 10 * 3 - 2, endpoint=True)],\n",
    "                     np.repeat(z_values[j, :], 3)[1:-1]))\n",
    "    codes = [Path.MOVETO] + [Path.CURVE4 for _ in range(len(verts) - 1)]\n",
    "    path = Path(verts, codes)\n",
    "    patch = patches.PathPatch(path, facecolor=\"none\", \n",
    "                              lw=4, \n",
    "                              edgecolor=choose_color(j), )\n",
    "    host.add_patch(patch)\n",
    " \n",
    "    \n",
    "# host.legend([\"T1\",\"T2\",\"T3\"],loc=4)\n",
    "fig.savefig(f'FlowGraph.{Y_COL}.png', dpi=300, transparent=True)\n",
    "\n",
    "fig"
   ]
  }
 ],
 "metadata": {
  "kernelspec": {
   "display_name": "Python 3 (ipykernel)",
   "language": "python",
   "name": "python3"
  },
  "language_info": {
   "codemirror_mode": {
    "name": "ipython",
    "version": 3
   },
   "file_extension": ".py",
   "mimetype": "text/x-python",
   "name": "python",
   "nbconvert_exporter": "python",
   "pygments_lexer": "ipython3",
   "version": "3.10.13"
  }
 },
 "nbformat": 4,
 "nbformat_minor": 5
}
